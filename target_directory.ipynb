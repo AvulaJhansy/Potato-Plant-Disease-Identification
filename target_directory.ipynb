{
 "cells": [
  {
   "cell_type": "code",
   "execution_count": null,
   "metadata": {},
   "outputs": [],
   "source": [
    "import tensorflow as tf\n",
    "from tensorflow.keras.preprocessing.image import ImageDataGenerator\n",
    "import os\n",
    "import numpy as np\n",
    "import shutil\n",
    "\n",
    "# Define the image directory paths\n",
    "early_blight_dir = r\"C:\\Users\\Avula Jhansy\\Downloads\\plant_500\\Potato___Early_blight\"\n",
    "late_blight_dir = r\"C:\\Users\\Avula Jhansy\\Downloads\\plant_500\\Potato___Late_blight\"\n",
    "healthy_dir = r\"C:\\Users\\Avula Jhansy\\Downloads\\plant_500\\Potato___healthy\"\n",
    "\n",
    "# Target directories where you want to save the balanced dataset\n",
    "target_dir = r\"C:\\Users\\Avula Jhansy\\Downloads\\plant_500\\500_plant\"\n",
    "os.makedirs(target_dir, exist_ok=True)\n",
    "\n",
    "# Helper function to copy a random subset of files\n",
    "def copy_random_subset(source_dir, target_dir, num_images):\n",
    "    all_images = os.listdir(source_dir)\n",
    "    selected_images = np.random.choice(all_images, num_images, replace=False)\n",
    "    os.makedirs(target_dir, exist_ok=True)\n",
    "    for img in selected_images:\n",
    "        shutil.copy(os.path.join(source_dir, img), os.path.join(target_dir, img))\n",
    "\n",
    "# Copy 500 images from Early_blight and Late_blight to the target directory\n",
    "copy_random_subset(early_blight_dir, os.path.join(target_dir, \"Early_blight\"), 500)\n",
    "copy_random_subset(late_blight_dir, os.path.join(target_dir, \"Late_blight\"), 500)\n",
    "\n",
    "# Augment Healthy class images to reach 500\n",
    "datagen = ImageDataGenerator(\n",
    "    rotation_range=20,\n",
    "    width_shift_range=0.2,\n",
    "    height_shift_range=0.2,\n",
    "    shear_range=0.2,\n",
    "    zoom_range=0.2,\n",
    "    horizontal_flip=True,\n",
    "    fill_mode='nearest'\n",
    ")\n",
    "\n",
    "# Load the 152 healthy images\n",
    "healthy_images = [os.path.join(healthy_dir, img) for img in os.listdir(healthy_dir)]\n",
    "healthy_images = healthy_images[:152]\n",
    "\n",
    "# Augment Healthy images\n",
    "augmented_dir = os.path.join(target_dir, \"Healthy\")\n",
    "os.makedirs(augmented_dir, exist_ok=True)\n",
    "\n",
    "for i, img_path in enumerate(healthy_images):\n",
    "    img = tf.keras.preprocessing.image.load_img(img_path, target_size=(256, 256))\n",
    "    x = tf.keras.preprocessing.image.img_to_array(img)\n",
    "    x = x.reshape((1,) + x.shape)\n",
    "    \n",
    "    # Generate batches of augmented images\n",
    "    j = 0\n",
    "    for batch in datagen.flow(x, batch_size=1, save_to_dir=augmented_dir, save_prefix=f\"healthy_aug_{i}\", save_format='png'):\n",
    "        j += 1\n",
    "        if j >= (500 - 152) / 152:  # Generate just enough to make total 500 images\n",
    "            break\n"
   ]
  },
  {
   "cell_type": "code",
   "execution_count": null,
   "metadata": {},
   "outputs": [],
   "source": []
  }
 ],
 "metadata": {
  "kernelspec": {
   "display_name": "Python 3",
   "language": "python",
   "name": "python3"
  },
  "language_info": {
   "codemirror_mode": {
    "name": "ipython",
    "version": 3
   },
   "file_extension": ".py",
   "mimetype": "text/x-python",
   "name": "python",
   "nbconvert_exporter": "python",
   "pygments_lexer": "ipython3",
   "version": "3.11.5"
  }
 },
 "nbformat": 4,
 "nbformat_minor": 2
}
